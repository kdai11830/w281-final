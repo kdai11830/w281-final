{
 "cells": [
  {
   "cell_type": "markdown",
   "metadata": {},
   "source": [
    "# Run Experiments"
   ]
  },
  {
   "cell_type": "code",
   "execution_count": null,
   "metadata": {},
   "outputs": [],
   "source": [
    "from pathlib import Path\n",
    "import numpy as np\n",
    "import pandas as pd\n",
    "import matplotlib.pyplot as plt\n",
    "import seaborn as sns\n",
    "import plotly.express as px\n",
    "import cv2\n",
    "from skimage import feature, exposure\n",
    "import colorsys\n",
    "import os\n",
    "import random\n",
    "from tqdm import tqdm\n",
    "from PIL import Image\n",
    "\n",
    "from sklearn.model_selection import train_test_split, GridSearchCV, cross_validate\n",
    "from sklearn.preprocessing import MinMaxScaler, StandardScaler\n",
    "from sklearn.decomposition import PCA\n",
    "from sklearn.manifold import TSNE\n",
    "from sklearn.linear_model import LogisticRegression\n",
    "from sklearn.svm import SVC\n",
    "from sklearn.metrics import confusion_matrix\n",
    "\n",
    "import torch\n",
    "from torch import nn\n",
    "import torchvision.models as models\n",
    "from torchvision.models import resnet101, ResNet101_Weights\n",
    "from torchvision.models import vgg16, VGG16_Weights\n",
    "from torchvision.models import efficientnet_v2_m, EfficientNet_V2_M_Weights\n",
    "from torchvision import transforms\n",
    "from pytorch_model_summary import summary"
   ]
  },
  {
   "cell_type": "code",
   "execution_count": null,
   "metadata": {},
   "outputs": [],
   "source": [
    "from utils import *\n",
    "from HOG_and_DAISY_feature_extraction_methods import *"
   ]
  },
  {
   "cell_type": "markdown",
   "metadata": {},
   "source": [
    "## Split the data into Train (and Validation) and a Test set"
   ]
  },
  {
   "cell_type": "code",
   "execution_count": null,
   "metadata": {},
   "outputs": [],
   "source": [
    "# # load all 30 classes, 220 images per class\n",
    "# X, Y, idx_to_cl = load_dataset('data', cl_limit=30, img_limit=220)\n",
    "\n",
    "# # train test split at 80-20 ratio\n",
    "# X_train, X_test, Y_train, Y_test = train_test_split(X, Y, test_size=0.2, stratify=Y, shuffle=True, random_state=42)\n",
    "\n",
    "# print(f\"Data shape: {X.shape}\")\n",
    "# print(f\"Data labels shape: {Y.shape}\\n\")\n",
    "# print(f\"X Train shape: {X_train.shape}\")\n",
    "# print(f\"Y Train shape: {Y_train.shape}\")\n",
    "# print(f\"X Test shape: {X_test.shape}\")\n",
    "# print(f\"Y Test shape: {Y_test.shape}\")\n",
    "\n",
    "# # save all as np\n",
    "# folder_path = Path('train_test_split')\n",
    "# folder_path.mkdir(parents=True, exist_ok=True)\n",
    "\n",
    "# with open(folder_path / 'X_train.npy', 'wb') as f:\n",
    "#     np.save(f, X_train)\n",
    "# with open(folder_path / 'X_test.npy', 'wb') as f:\n",
    "#     np.save(f, X_test)\n",
    "# with open(folder_path / 'Y_train.npy', 'wb') as f:\n",
    "#     np.save(f, Y_train)\n",
    "# with open(folder_path / 'Y_test.npy', 'wb') as f:\n",
    "#     np.save(f, Y_test)"
   ]
  },
  {
   "cell_type": "code",
   "execution_count": null,
   "metadata": {},
   "outputs": [],
   "source": [
    "# load in train and test data\n",
    "folder_path = Path('train_test_split')\n",
    "\n",
    "X_train = np.load(folder_path / 'X_train.npy')\n",
    "Y_train = np.load(folder_path / 'Y_train.npy')\n",
    "X_test = np.load(folder_path / 'X_test.npy')\n",
    "Y_test = np.load(folder_path / 'Y_test.npy')\n",
    "\n",
    "print(f\"X Train shape: {X_train.shape}\")\n",
    "print(f\"Y Train shape: {Y_train.shape}\")\n",
    "print(f\"X Test shape: {X_test.shape}\")\n",
    "print(f\"Y Test shape: {Y_test.shape}\")"
   ]
  },
  {
   "cell_type": "code",
   "execution_count": null,
   "metadata": {},
   "outputs": [],
   "source": [
    "features, features_idxs = apply_features(X=X_train, feature_functions = {\n",
    "    'temp': extract_large_brightness_hog_features,\n",
    "})"
   ]
  },
  {
   "cell_type": "code",
   "execution_count": null,
   "metadata": {},
   "outputs": [],
   "source": [
    "# save features\n",
    "feature_folder_path = Path('features')\n",
    "\n",
    "with open(feature_folder_path / 'train_large_brightness_HOG_features.npy', 'wb') as f:\n",
    "    np.save(f, features)"
   ]
  },
  {
   "cell_type": "code",
   "execution_count": null,
   "metadata": {},
   "outputs": [],
   "source": [
    "# daisy_gray_features = apply_features(X=X_train, feature_functions = {\n",
    "#     'daisy_gray': extract_gray_daisy_features,\n",
    "#     'daisy_red': extract_red_daisy_features,\n",
    "#     'daisy_green': extract_green_daisy_features,\n",
    "#     'daisy_blue': extract_blue_daisy_features,\n",
    "#     'daisy_hue': extract_hue_daisy_features,\n",
    "#     'daisy_saturation': extract_saturation_daisy_features,\n",
    "#     'daisy_brightness': extract_brightness_daisy_features,\n",
    "# })"
   ]
  },
  {
   "cell_type": "code",
   "execution_count": null,
   "metadata": {},
   "outputs": [],
   "source": []
  },
  {
   "cell_type": "code",
   "execution_count": null,
   "metadata": {},
   "outputs": [],
   "source": []
  },
  {
   "cell_type": "code",
   "execution_count": null,
   "metadata": {},
   "outputs": [],
   "source": []
  },
  {
   "cell_type": "code",
   "execution_count": null,
   "metadata": {},
   "outputs": [],
   "source": []
  },
  {
   "cell_type": "code",
   "execution_count": null,
   "metadata": {},
   "outputs": [],
   "source": []
  },
  {
   "cell_type": "code",
   "execution_count": null,
   "metadata": {},
   "outputs": [],
   "source": []
  },
  {
   "cell_type": "code",
   "execution_count": null,
   "metadata": {},
   "outputs": [],
   "source": []
  },
  {
   "cell_type": "code",
   "execution_count": null,
   "metadata": {},
   "outputs": [],
   "source": []
  },
  {
   "cell_type": "code",
   "execution_count": null,
   "metadata": {},
   "outputs": [],
   "source": []
  },
  {
   "cell_type": "code",
   "execution_count": null,
   "metadata": {},
   "outputs": [],
   "source": []
  },
  {
   "cell_type": "code",
   "execution_count": null,
   "metadata": {},
   "outputs": [],
   "source": []
  },
  {
   "cell_type": "code",
   "execution_count": null,
   "metadata": {},
   "outputs": [],
   "source": []
  },
  {
   "cell_type": "code",
   "execution_count": null,
   "metadata": {},
   "outputs": [],
   "source": []
  },
  {
   "cell_type": "code",
   "execution_count": null,
   "metadata": {},
   "outputs": [],
   "source": []
  },
  {
   "cell_type": "code",
   "execution_count": null,
   "metadata": {},
   "outputs": [],
   "source": []
  },
  {
   "cell_type": "code",
   "execution_count": null,
   "metadata": {},
   "outputs": [],
   "source": []
  },
  {
   "cell_type": "code",
   "execution_count": null,
   "metadata": {},
   "outputs": [],
   "source": []
  },
  {
   "cell_type": "code",
   "execution_count": null,
   "metadata": {},
   "outputs": [],
   "source": []
  },
  {
   "cell_type": "code",
   "execution_count": null,
   "metadata": {},
   "outputs": [],
   "source": []
  }
 ],
 "metadata": {
  "kernelspec": {
   "display_name": "py1torch",
   "language": "python",
   "name": "python3"
  },
  "language_info": {
   "codemirror_mode": {
    "name": "ipython",
    "version": 3
   },
   "file_extension": ".py",
   "mimetype": "text/x-python",
   "name": "python",
   "nbconvert_exporter": "python",
   "pygments_lexer": "ipython3",
   "version": "3.10.8"
  }
 },
 "nbformat": 4,
 "nbformat_minor": 2
}
