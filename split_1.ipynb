{
  "nbformat": 4,
  "nbformat_minor": 0,
  "metadata": {
    "colab": {
      "provenance": [],
      "machine_shape": "hm"
    },
    "kernelspec": {
      "name": "python3",
      "display_name": "Python 3"
    },
    "language_info": {
      "name": "python"
    }
  },
  "cells": [
    {
      "cell_type": "code",
      "execution_count": 2,
      "metadata": {
        "id": "q1nnCdvsDrhC"
      },
      "outputs": [],
      "source": [
        "import pandas as pd\n",
        "import matplotlib.pyplot as plt\n",
        "pd.__version__\n",
        "from google.colab import files\n",
        "import numpy as np\n",
        "import datetime\n",
        "from datetime import datetime\n",
        "from numpy.testing import assert_almost_equal\n",
        "import os\n",
        "from google.colab import drive\n",
        "from zipfile import ZipFile\n",
        "import os\n",
        "from tensorflow.keras.preprocessing.image import ImageDataGenerator, array_to_img, img_to_array, load_img\n",
        "from PIL import Image\n",
        "from tqdm import tqdm"
      ]
    },
    {
      "cell_type": "markdown",
      "source": [
        "#### import data"
      ],
      "metadata": {
        "id": "hOOhmKc9PaJt"
      }
    },
    {
      "cell_type": "code",
      "source": [
        "# 假设文件路径为 /content/drive/My Drive/Colab_Notebooks/W281/final_data/archive.zip\n",
        "zip_path = '/content/drive/My Drive/data/archive.zip'\n",
        "extract_path = '/content/drive/My Drive/data/'  # 解压路径\n",
        "\n",
        "# 解压文件\n",
        "with ZipFile(zip_path, 'r') as zip_ref:\n",
        "    zip_ref.extractall(extract_path)\n",
        "\n",
        "# 显示已解压文件列表\n",
        "extracted_files = os.listdir(extract_path)\n",
        "print(\"已解压文件列表：\", extracted_files)"
      ],
      "metadata": {
        "colab": {
          "base_uri": "https://localhost:8080/"
        },
        "id": "YpcRRYLoPm5R",
        "outputId": "75d9b1e3-edbf-42d2-988a-9c85d8fe6a50"
      },
      "execution_count": 9,
      "outputs": [
        {
          "output_type": "stream",
          "name": "stdout",
          "text": [
            "已解压文件列表： ['archive.zip', 'AID']\n"
          ]
        }
      ]
    },
    {
      "cell_type": "code",
      "source": [
        "drive.mount('/content/drive')\n",
        "# assign directory\n",
        "#directory = '/content/drive/My Drive/W207/datasets/cloud_data/train/'\n",
        "directory = '/content/drive/My Drive/data/AID/'"
      ],
      "metadata": {
        "id": "15nuFYWzTyXK",
        "colab": {
          "base_uri": "https://localhost:8080/"
        },
        "outputId": "cc19ada0-3a48-40d4-a2eb-3d953ef535df"
      },
      "execution_count": 10,
      "outputs": [
        {
          "output_type": "stream",
          "name": "stdout",
          "text": [
            "Drive already mounted at /content/drive; to attempt to forcibly remount, call drive.mount(\"/content/drive\", force_remount=True).\n"
          ]
        }
      ]
    },
    {
      "cell_type": "code",
      "source": [
        "# Load in categories & images\n",
        "#directory = 'data'\n",
        "\n",
        "indx=0\n",
        "images = []\n",
        "images_mini = []\n",
        "\n",
        "y = pd.DataFrame(columns = ['id_code', 'category'])\n",
        "y_mini = []\n",
        "\n",
        "for filename in os.listdir(directory):\n",
        "    if filename.startswith('.'):\n",
        "        next\n",
        "    else:\n",
        "        label = filename\n",
        "        scene_directory = directory + '/' + filename + '/'\n",
        "        for idx, picname in enumerate(os.listdir(scene_directory)):\n",
        "            if picname.startswith('.'):\n",
        "                next\n",
        "            else:\n",
        "                # Load Category into Y Dataframe\n",
        "                y.loc[len(y.index)] = [picname.replace('.jpg', ''),label]\n",
        "\n",
        "                #Add label to y_mini\n",
        "                y_mini.append(label)\n",
        "\n",
        "                # Load Photos\n",
        "                img = plt.imread(\n",
        "                scene_directory + picname)\n",
        "\n",
        "                # Add  into images list\n",
        "                images.append(img)\n",
        "\n",
        "                # transform image to array\n",
        "                img = np.array(img)\n",
        "\n",
        "                # append to images_mini\n",
        "                images_mini.append(img)\n",
        "\n",
        "                next\n"
      ],
      "metadata": {
        "id": "oGXd06KvTQqn"
      },
      "execution_count": 11,
      "outputs": []
    },
    {
      "cell_type": "code",
      "source": [
        "# function to pick random images for correct sizing (Simplifying Yencheng's code)\n",
        "def pick_random_images(scene_type):\n",
        "    data_cut = y[y[\"category\"]==scene_type]\n",
        "    temp = list(np.random.choice(\n",
        "    data_cut.id_code,\n",
        "    size=100,\n",
        "    replace=False\n",
        "    ))\n",
        "    return temp\n"
      ],
      "metadata": {
        "id": "TMyYX5K38rhv"
      },
      "execution_count": 12,
      "outputs": []
    },
    {
      "cell_type": "code",
      "source": [
        "scenes = y['category'].unique().tolist()\n",
        "result_dict = {}\n",
        "\n",
        "for i in scenes:\n",
        "  print(f'{i} = pick_random_images(\"{i}\")')"
      ],
      "metadata": {
        "colab": {
          "base_uri": "https://localhost:8080/"
        },
        "id": "fiCGJR-39zMQ",
        "outputId": "03fbcf2e-90b3-47d8-ba9b-17acf5a69207"
      },
      "execution_count": 13,
      "outputs": [
        {
          "output_type": "stream",
          "name": "stdout",
          "text": [
            "Pond = pick_random_images(\"Pond\")\n",
            "Church = pick_random_images(\"Church\")\n",
            "River = pick_random_images(\"River\")\n",
            "Center = pick_random_images(\"Center\")\n",
            "Resort = pick_random_images(\"Resort\")\n",
            "Square = pick_random_images(\"Square\")\n",
            "Bridge = pick_random_images(\"Bridge\")\n",
            "Park = pick_random_images(\"Park\")\n",
            "Forest = pick_random_images(\"Forest\")\n",
            "Playground = pick_random_images(\"Playground\")\n",
            "BaseballField = pick_random_images(\"BaseballField\")\n",
            "Farmland = pick_random_images(\"Farmland\")\n",
            "Stadium = pick_random_images(\"Stadium\")\n",
            "Beach = pick_random_images(\"Beach\")\n",
            "RailwayStation = pick_random_images(\"RailwayStation\")\n",
            "DenseResidential = pick_random_images(\"DenseResidential\")\n",
            "Airport = pick_random_images(\"Airport\")\n",
            "Industrial = pick_random_images(\"Industrial\")\n",
            "SparseResidential = pick_random_images(\"SparseResidential\")\n",
            "Commercial = pick_random_images(\"Commercial\")\n",
            "MediumResidential = pick_random_images(\"MediumResidential\")\n",
            "BareLand = pick_random_images(\"BareLand\")\n",
            "Viaduct = pick_random_images(\"Viaduct\")\n",
            "Port = pick_random_images(\"Port\")\n",
            "Mountain = pick_random_images(\"Mountain\")\n",
            "Desert = pick_random_images(\"Desert\")\n",
            "StorageTanks = pick_random_images(\"StorageTanks\")\n",
            "Meadow = pick_random_images(\"Meadow\")\n",
            "Parking = pick_random_images(\"Parking\")\n",
            "School = pick_random_images(\"School\")\n"
          ]
        }
      ]
    },
    {
      "cell_type": "code",
      "source": [
        "# Pick random images from each cloud type\n",
        "np.random.seed(1234)\n",
        "\n",
        "Airport = pick_random_images(\"Airport\")\n",
        "BareLand = pick_random_images(\"BareLand\")\n",
        "BaseballField = pick_random_images(\"BaseballField\")\n",
        "Beach = pick_random_images(\"Beach\")\n",
        "Bridge = pick_random_images(\"Bridge\")\n",
        "Center = pick_random_images(\"Center\")\n",
        "Church = pick_random_images(\"Church\")\n",
        "Commercial = pick_random_images(\"Commercial\")\n",
        "DenseResidential = pick_random_images(\"DenseResidential\")\n",
        "Desert = pick_random_images(\"Desert\")\n",
        "Farmland = pick_random_images(\"Farmland\")\n",
        "Forest = pick_random_images(\"Forest\")\n",
        "Industrial = pick_random_images(\"Industrial\")\n",
        "Meadow = pick_random_images(\"Meadow\")\n",
        "MediumResidential = pick_random_images(\"MediumResidential\")\n",
        "Mountain = pick_random_images(\"Mountain\")\n",
        "Park = pick_random_images(\"Park\")\n",
        "Parking = pick_random_images(\"Parking\")\n",
        "Playground = pick_random_images(\"Playground\")\n",
        "Pond = pick_random_images(\"Pond\")\n",
        "Port = pick_random_images(\"Port\")\n",
        "RailwayStation = pick_random_images(\"RailwayStation\")\n",
        "Resort = pick_random_images(\"Resort\")\n",
        "River = pick_random_images(\"River\")\n",
        "School = pick_random_images(\"School\")\n",
        "SparseResidential = pick_random_images(\"SparseResidential\")\n",
        "Square = pick_random_images(\"Square\")\n",
        "Stadium = pick_random_images(\"Stadium\")\n",
        "StorageTanks = pick_random_images(\"StorageTanks\")\n",
        "Viaduct = pick_random_images(\"Viaduct\")"
      ],
      "metadata": {
        "id": "9aqX1g2h8thU"
      },
      "execution_count": 14,
      "outputs": []
    },
    {
      "cell_type": "code",
      "source": [
        "def preprocess_data_part2(images, y, split=(0.6,0.2,0.2)):\n",
        "\n",
        "    splits = np.multiply(len(images), split).astype(int)\n",
        "    X_train, X_val, X_test = np.split(images, [splits[0], splits[0]+splits[1]])\n",
        "    y_train, y_val, y_test = np.split(y, [splits[0], splits[0]+splits[1]])\n",
        "\n",
        "    return X_train, y_train, X_val, y_val, X_test, y_test"
      ],
      "metadata": {
        "id": "ayzEJ3Jc4uoi"
      },
      "execution_count": 2,
      "outputs": []
    },
    {
      "cell_type": "code",
      "source": [
        "X_train, y_train, X_val, y_val, X_test, y_test = preprocess_data_part2(\n",
        "    np.stack(images),\n",
        "    np.stack(y),\n",
        "    split=(0.6,0.2,0.2)\n",
        ")"
      ],
      "metadata": {
        "colab": {
          "base_uri": "https://localhost:8080/",
          "height": 253
        },
        "id": "6MX5Ul258PUB",
        "outputId": "ff70d27b-50b1-47ea-bccc-c8bac4a848fb"
      },
      "execution_count": 3,
      "outputs": [
        {
          "output_type": "error",
          "ename": "NameError",
          "evalue": "ignored",
          "traceback": [
            "\u001b[0;31m---------------------------------------------------------------------------\u001b[0m",
            "\u001b[0;31mNameError\u001b[0m                                 Traceback (most recent call last)",
            "\u001b[0;32m<ipython-input-3-979b16c756f1>\u001b[0m in \u001b[0;36m<cell line: 1>\u001b[0;34m()\u001b[0m\n\u001b[1;32m      1\u001b[0m X_train, y_train, X_val, y_val, X_test, y_test = preprocess_data_part2(\n\u001b[0;32m----> 2\u001b[0;31m     \u001b[0mnp\u001b[0m\u001b[0;34m.\u001b[0m\u001b[0mstack\u001b[0m\u001b[0;34m(\u001b[0m\u001b[0mimages\u001b[0m\u001b[0;34m)\u001b[0m\u001b[0;34m,\u001b[0m\u001b[0;34m\u001b[0m\u001b[0;34m\u001b[0m\u001b[0m\n\u001b[0m\u001b[1;32m      3\u001b[0m     \u001b[0mnp\u001b[0m\u001b[0;34m.\u001b[0m\u001b[0mstack\u001b[0m\u001b[0;34m(\u001b[0m\u001b[0my\u001b[0m\u001b[0;34m)\u001b[0m\u001b[0;34m,\u001b[0m\u001b[0;34m\u001b[0m\u001b[0;34m\u001b[0m\u001b[0m\n\u001b[1;32m      4\u001b[0m     \u001b[0msplit\u001b[0m\u001b[0;34m=\u001b[0m\u001b[0;34m(\u001b[0m\u001b[0;36m0.6\u001b[0m\u001b[0;34m,\u001b[0m\u001b[0;36m0.2\u001b[0m\u001b[0;34m,\u001b[0m\u001b[0;36m0.2\u001b[0m\u001b[0;34m)\u001b[0m\u001b[0;34m\u001b[0m\u001b[0;34m\u001b[0m\u001b[0m\n\u001b[1;32m      5\u001b[0m )\n",
            "\u001b[0;31mNameError\u001b[0m: name 'np' is not defined"
          ]
        }
      ]
    }
  ]
}